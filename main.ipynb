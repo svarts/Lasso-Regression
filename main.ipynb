{
 "cells": [
  {
   "cell_type": "code",
   "execution_count": 3,
   "metadata": {},
   "outputs": [],
   "source": [
    "import numpy as np\n",
    "from sklearn.model_selection import train_test_split\n",
    "from sklearn.preprocessing import StandardScaler\n",
    "from sklearn.linear_model import Lasso\n",
    "from sklearn.metrics import mean_absolute_error, mean_squared_error, r2_score\n",
    "import matplotlib.pyplot as plt\n",
    "import seaborn as sns\n",
    "import warnings\n",
    "warnings.filterwarnings('ignore')"
   ]
  },
  {
   "cell_type": "code",
   "execution_count": 2,
   "metadata": {},
   "outputs": [],
   "source": [
    "# Load the data\n",
    "import pandas as pd\n",
    "data = pd.read_csv('StudentsPerformance.csv')"
   ]
  },
  {
   "cell_type": "code",
   "execution_count": 4,
   "metadata": {},
   "outputs": [
    {
     "name": "stdout",
     "output_type": "stream",
     "text": [
      "Total number of students: 1000\n"
     ]
    }
   ],
   "source": [
    "# Print the shape of the dataset\n",
    "count_of_person = data.shape[0]\n",
    "print(\"Total number of people:\",count_of_person)"
   ]
  },
  {
   "cell_type": "code",
   "execution_count": 6,
   "metadata": {},
   "outputs": [],
   "source": [
    "# Add a column for the average score\n",
    "data.rename(columns={\n",
    "    \"gender\": \"Gender\",\n",
    "    \"race/ethnicity\": \"Race/Ethnicity\",\n",
    "    \"parental level of education\": \"Parental Education Level\",\n",
    "    \"lunch\": \"Lunch Type\",\n",
    "    \"test preparation course\": \"Test Preparation Course\",\n",
    "    \"math score\": \"Math Score\",\n",
    "    \"reading score\": \"Reading Score\",\n",
    "    \"writing score\": \"Writing Score\"\n",
    "}, inplace=True)\n",
    "\n",
    "# Add a column for the average score\n",
    "data['Average Score'] = (data['Math Score'] + data['Reading Score'] + data['Writing Score']) / 3"
   ]
  },
  {
   "cell_type": "code",
   "execution_count": 7,
   "metadata": {},
   "outputs": [
    {
     "data": {
      "text/html": [
       "<div>\n",
       "<style scoped>\n",
       "    .dataframe tbody tr th:only-of-type {\n",
       "        vertical-align: middle;\n",
       "    }\n",
       "\n",
       "    .dataframe tbody tr th {\n",
       "        vertical-align: top;\n",
       "    }\n",
       "\n",
       "    .dataframe thead th {\n",
       "        text-align: right;\n",
       "    }\n",
       "</style>\n",
       "<table border=\"1\" class=\"dataframe\">\n",
       "  <thead>\n",
       "    <tr style=\"text-align: right;\">\n",
       "      <th></th>\n",
       "      <th>Gender</th>\n",
       "      <th>Race/Ethnicity</th>\n",
       "      <th>Parental Education Level</th>\n",
       "      <th>Lunch Type</th>\n",
       "      <th>Test Preparation Course</th>\n",
       "      <th>Math Score</th>\n",
       "      <th>Reading Score</th>\n",
       "      <th>Writing Score</th>\n",
       "      <th>Average Score</th>\n",
       "    </tr>\n",
       "  </thead>\n",
       "  <tbody>\n",
       "    <tr>\n",
       "      <th>0</th>\n",
       "      <td>female</td>\n",
       "      <td>group B</td>\n",
       "      <td>bachelor's degree</td>\n",
       "      <td>standard</td>\n",
       "      <td>none</td>\n",
       "      <td>72</td>\n",
       "      <td>72</td>\n",
       "      <td>74</td>\n",
       "      <td>72.666667</td>\n",
       "    </tr>\n",
       "    <tr>\n",
       "      <th>1</th>\n",
       "      <td>female</td>\n",
       "      <td>group C</td>\n",
       "      <td>some college</td>\n",
       "      <td>standard</td>\n",
       "      <td>completed</td>\n",
       "      <td>69</td>\n",
       "      <td>90</td>\n",
       "      <td>88</td>\n",
       "      <td>82.333333</td>\n",
       "    </tr>\n",
       "    <tr>\n",
       "      <th>2</th>\n",
       "      <td>female</td>\n",
       "      <td>group B</td>\n",
       "      <td>master's degree</td>\n",
       "      <td>standard</td>\n",
       "      <td>none</td>\n",
       "      <td>90</td>\n",
       "      <td>95</td>\n",
       "      <td>93</td>\n",
       "      <td>92.666667</td>\n",
       "    </tr>\n",
       "    <tr>\n",
       "      <th>3</th>\n",
       "      <td>male</td>\n",
       "      <td>group A</td>\n",
       "      <td>associate's degree</td>\n",
       "      <td>free/reduced</td>\n",
       "      <td>none</td>\n",
       "      <td>47</td>\n",
       "      <td>57</td>\n",
       "      <td>44</td>\n",
       "      <td>49.333333</td>\n",
       "    </tr>\n",
       "    <tr>\n",
       "      <th>4</th>\n",
       "      <td>male</td>\n",
       "      <td>group C</td>\n",
       "      <td>some college</td>\n",
       "      <td>standard</td>\n",
       "      <td>none</td>\n",
       "      <td>76</td>\n",
       "      <td>78</td>\n",
       "      <td>75</td>\n",
       "      <td>76.333333</td>\n",
       "    </tr>\n",
       "  </tbody>\n",
       "</table>\n",
       "</div>"
      ],
      "text/plain": [
       "   Gender Race/Ethnicity Parental Education Level    Lunch Type  \\\n",
       "0  female        group B        bachelor's degree      standard   \n",
       "1  female        group C             some college      standard   \n",
       "2  female        group B          master's degree      standard   \n",
       "3    male        group A       associate's degree  free/reduced   \n",
       "4    male        group C             some college      standard   \n",
       "\n",
       "  Test Preparation Course  Math Score  Reading Score  Writing Score  \\\n",
       "0                    none          72             72             74   \n",
       "1               completed          69             90             88   \n",
       "2                    none          90             95             93   \n",
       "3                    none          47             57             44   \n",
       "4                    none          76             78             75   \n",
       "\n",
       "   Average Score  \n",
       "0      72.666667  \n",
       "1      82.333333  \n",
       "2      92.666667  \n",
       "3      49.333333  \n",
       "4      76.333333  "
      ]
     },
     "execution_count": 7,
     "metadata": {},
     "output_type": "execute_result"
    }
   ],
   "source": [
    "# Create a new column for the average score\n",
    "df=data\n",
    "df.head()"
   ]
  },
  {
   "cell_type": "code",
   "execution_count": 13,
   "metadata": {},
   "outputs": [
    {
     "data": {
      "image/png": "[encoded data removed]",
      "text/plain": [
       "<Figure size 1200x600 with 2 Axes>"
      ]
     },
     "metadata": {},
     "output_type": "display_data"
    }
   ],
   "source": [
    "import matplotlib.pyplot as plt\n",
    "import numpy as np\n",
    "import pandas as pd\n",
    "import seaborn as sns\n",
    "\n",
    "# Generating a sample dataset for demonstration\n",
    "np.random.seed(0)\n",
    "data = pd.DataFrame({\n",
    "    'reading score': np.random.randint(0, 100, 200),\n",
    "    'writing score': np.random.randint(0, 100, 200)\n",
    "})\n",
    "\n",
    "# Plot the distribution of 'reading score' and 'writing score'\n",
    "plt.figure(figsize=(12, 6))\n",
    "\n",
    "# Plotting the distribution of 'reading score'\n",
    "plt.subplot(1, 2, 1)  # 1 row, 2 columns, first plot\n",
    "sns.histplot(data['reading score'], kde=True, color='orange')\n",
    "plt.title('Reading Score Distribution')\n",
    "plt.xlabel('Reading Score')\n",
    "plt.ylabel('Frequency')\n",
    "\n",
    "# Plotting the distribution of 'writing score'\n",
    "plt.subplot(1, 2, 2)  # 1 row, 2 columns, second plot\n",
    "sns.histplot(data['writing score'], kde=True, color='pink')\n",
    "plt.title('Writing Score Distribution')\n",
    "plt.xlabel('Writing Score')\n",
    "plt.ylabel('Frequency')\n",
    "\n",
    "plt.show()"
   ]
  },
  {
   "cell_type": "code",
   "execution_count": null,
   "metadata": {},
   "outputs": [],
   "source": [
    "# Calculating the average score\n",
    "data['Average Score'] = data[['Math Score', 'Reading Score', 'Writing Score']].mean(axis=1)\n",
    "\n",
    "# Example analysis: Plotting the distribution of the average score\n",
    "plt.figure(figsize=(8, 6))\n",
    "sns.histplot(data['Average Score'], kde=True, color='purple')\n",
    "plt.title('Distribution of Average Scores')\n",
    "plt.xlabel('Average Score')\n",
    "plt.ylabel('Frequency')\n",
    "plt.show()\n",
    "print(data.columns)"
   ]
  },
  {
   "cell_type": "code",
   "execution_count": null,
   "metadata": {},
   "outputs": [],
   "source": [
    "import pandas as pd\n",
    "import matplotlib.pyplot as plt\n",
    "import seaborn as sns\n",
    "from sklearn.model_selection import train_test_split\n",
    "from sklearn.linear_model import Lasso\n",
    "from sklearn.metrics import mean_squared_error\n",
    "\n",
    "# Assuming 'data' is a DataFrame with the required columns\n",
    "X = data[['Reading Score', 'Writing Score']]  \n",
    "y = data['Math Score']\n",
    "\n",
    "# Split the data into training and testing sets\n",
    "X_train, X_test, y_train, y_test = train_test_split(X, y, test_size=0.2, random_state=42)\n",
    "\n",
    "# Create a Lasso regression model\n",
    "lasso_model = Lasso(alpha=0.01)  # alpha controls the strength of regularization\n",
    "\n",
    "# Train the model\n",
    "lasso_model.fit(X_train, y_train)\n",
    "\n",
    "# Make predictions on the test set\n",
    "y_pred = lasso_model.predict(X_test)\n",
    "\n",
    "# Evaluate the model's performance\n",
    "mse = mean_squared_error(y_test, y_pred)\n",
    "print(f\"Mean Squared Error: {mse}\")\n",
    "\n",
    "# Examine the coefficients to see which features are important\n",
    "coefficients = lasso_model.coef_\n",
    "print(\"Coefficients:\", coefficients)\n",
    "\n",
    "# Convert coefficients to a DataFrame\n",
    "coefficients_df = pd.DataFrame({'Feature': X.columns, 'Coefficient': coefficients})\n",
    "\n",
    "# Plot a bar graph\n",
    "plt.figure(figsize=(10, 6))\n",
    "sns.barplot(x='Feature', y='Coefficient', data=coefficients_df, palette='viridis')\n",
    "plt.title('Lasso Regression Coefficients')\n",
    "plt.xlabel('Feature')\n",
    "plt.ylabel('Coefficient')\n",
    "plt.xticks(rotation=45)  # Rotate the x-axis labels by 45 degrees\n",
    "plt.show()"
   ]
  }
 ],
 "metadata": {
  "kernelspec": {
   "display_name": "Python 3 (ipykernel)",
   "language": "python",
   "name": "python3"
  },
  "language_info": {
   "codemirror_mode": {
    "name": "ipython",
    "version": 3
   },
   "file_extension": ".py",
   "mimetype": "text/x-python",
   "name": "python",
   "nbconvert_exporter": "python",
   "pygments_lexer": "ipython3",
   "version": "3.9.6"
  }
 },
 "nbformat": 4,
 "nbformat_minor": 4
}
