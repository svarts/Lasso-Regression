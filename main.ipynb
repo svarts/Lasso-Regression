{
 "cells": [
  {
   "cell_type": "code",
   "execution_count": 3,
   "metadata": {},
   "outputs": [],
   "source": [
    "import pandas as pd\n",
    "import numpy as np\n",
    "from sklearn.model_selection import train_test_split\n",
    "from sklearn.preprocessing import StandardScaler\n",
    "from sklearn.linear_model import Lasso\n",
    "from sklearn.metrics import mean_absolute_error, mean_squared_error, r2_score\n",
    "import matplotlib.pyplot as plt\n",
    "import seaborn as sns\n",
    "import warnings\n",
    "warnings.filterwarnings('ignore')"
   ]
  },
  {
   "cell_type": "code",
   "execution_count": null,
   "metadata": {},
   "outputs": [],
   "source": [
    "# Load the data\n",
    "data = pd.read_csv('/StudentsPerformance.csv')"
   ]
  },
  {
   "cell_type": "code",
   "execution_count": null,
   "metadata": {},
   "outputs": [],
   "source": [
    "# Print the shape of the dataset\n",
    "count_of_person = df.shape[0]\n",
    "print(\"Total number of students:\",count_of_person)"
   ]
  },
  {
   "cell_type": "code",
   "execution_count": null,
   "metadata": {},
   "outputs": [],
   "source": [
    "# Add a column for the average score\n",
    "data.rename(columns = {\"gender\",\"race/ethnicity\",\"parental level of education\",\"lunch\",\"test preparation course\",\"math score\",\"reading score\",\"writing score\"}, inplace=True)"
   ]
  },
  {
   "cell_type": "code",
   "execution_count": null,
   "metadata": {},
   "outputs": [],
   "source": [
    "# Create a new column for the average score\n",
    "df=data\n",
    "df.head()"
   ]
  },
  {
   "cell_type": "code",
   "execution_count": null,
   "metadata": {},
   "outputs": [],
   "source": [
    "# Print the shape of the dataset\n",
    "count_of_person = df.shape[0]\n",
    "print(\"Total number of people:\",count_of_person)"
   ]
  },
  {
   "cell_type": "code",
   "execution_count": null,
   "metadata": {},
   "outputs": [],
   "source": [
    "# Generating a sample dataset for demonstration\n",
    "np.random.seed(0)\n",
    "data = pd.DataFrame({\n",
    "    'reading score': np.random.randint(0, 100, 200),\n",
    "    'writing score': np.random.randint(0, 100, 200)\n",
    "})\n",
    "\n",
    "# Plot the distribution of 'reading score' and 'writing score'\n",
    "plt.figure(figsize=(12, 6))\n",
    "\n",
    "# Plotting the distribution of 'reading score'\n",
    "plt.subplot(1, 2, 1)  # 1 row, 2 columns, first plot\n",
    "sns.histplot(data['reading score'], kde=True, color='orange')\n",
    "plt.title('Reading Score Distribution')\n",
    "plt.xlabel('Reading Score')\n",
    "plt.ylabel('Frequency')\n",
    "\n",
    "# Plotting the distribution of 'writing score'\n",
    "plt.subplot(1, 2, 2)  # 1 row, 2 columns, second plot\n",
    "sns.histplot(data['writing score'], kde=True, color='pink')\n",
    "plt.title('Writing Score Distribution')\n",
    "plt.xlabel('Writing Score')\n",
    "plt.ylabel('Frequency')\n",
    "\n",
    "plt.show()"
   ]
  },
  {
   "cell_type": "code",
   "execution_count": null,
   "metadata": {},
   "outputs": [],
   "source": [
    "# Calculating the average score\n",
    "data['Average Score'] = data[['Math Score', 'Reading Score', 'Writing Score']].mean(axis=1)\n",
    "\n",
    "# Example analysis: Plotting the distribution of the average score\n",
    "plt.figure(figsize=(8, 6))\n",
    "sns.histplot(data['Average Score'], kde=True, color='purple')\n",
    "plt.title('Distribution of Average Scores')\n",
    "plt.xlabel('Average Score')\n",
    "plt.ylabel('Frequency')\n",
    "plt.show()"
   ]
  },
  {
   "cell_type": "code",
   "execution_count": null,
   "metadata": {},
   "outputs": [],
   "source": [
    "# Assuming 'data' is a DataFrame with the required columns\n",
    "# Independent variables (X) and dependent variable (y)\n",
    "X = data[['Reading Score', 'Writing Score', 'Parental Level of Education', 'Lunch', 'Test Preparation Course']]\n",
    "y = data['Math Score']\n",
    "\n",
    "# Split the data into training and testing sets\n",
    "X_train, X_test, y_train, y_test = train_test_split(X, y, test_size=0.2, random_state=42)\n",
    "\n",
    "# Create a Lasso regression model\n",
    "lasso_model = Lasso(alpha=0.01)  # alpha controls the strength of regularization\n",
    "\n",
    "# Train the model\n",
    "lasso_model.fit(X_train, y_train)\n",
    "\n",
    "# Make predictions on the test set\n",
    "y_pred = lasso_model.predict(X_test)\n",
    "\n",
    "# Evaluate the model's performance\n",
    "mse = mean_squared_error(y_test, y_pred)\n",
    "print(f\"Mean Squared Error: {mse}\")\n",
    "\n",
    "# Examine the coefficients to see which features are important\n",
    "coefficients = lasso_model.coef_\n",
    "print(\"Coefficients:\", coefficients)\n",
    "\n",
    "# Convert coefficients to a DataFrame\n",
    "coefficients_df = pd.DataFrame({'Feature': X.columns, 'Coefficient': coefficients})\n",
    "\n",
    "# Plot a bar graph\n",
    "plt.figure(figsize=(10, 6))\n",
    "sns.barplot(x='Feature', y='Coefficient', data=coefficients_df, palette='viridis')\n",
    "plt.title('Lasso Regression Coefficients')\n",
    "plt.xlabel('Feature')\n",
    "plt.ylabel('Coefficient')\n",
    "plt.xticks(rotation=45)  # Rotate the x-axis labels by 45 degrees\n",
    "plt.show()"
   ]
  }
 ],
 "metadata": {
  "kernelspec": {
   "display_name": "Python 3 (ipykernel)",
   "language": "python",
   "name": "python3"
  },
  "language_info": {
   "codemirror_mode": {
    "name": "ipython",
    "version": 3
   },
   "file_extension": ".py",
   "mimetype": "text/x-python",
   "name": "python",
   "nbconvert_exporter": "python",
   "pygments_lexer": "ipython3",
   "version": "3.9.6"
  }
 },
 "nbformat": 4,
 "nbformat_minor": 4
}
